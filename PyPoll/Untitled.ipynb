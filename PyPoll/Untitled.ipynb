{
 "cells": [
  {
   "cell_type": "code",
   "execution_count": 10,
   "metadata": {},
   "outputs": [],
   "source": [
    "#Import CSV AND INIT\n",
    "\n",
    "import os\n",
    "from collections import Counter\n",
    "from collections import OrderedDict\n",
    "import csv\n",
    "import copy\n",
    "#declare path of Data\n",
    "poll_csv = os.path.join(\"..\\Resources\\election_data.csv\")"
   ]
  },
  {
   "cell_type": "code",
   "execution_count": 11,
   "metadata": {},
   "outputs": [],
   "source": [
    "# Importing Files\n",
    "with open(poll_csv, newline=\"\") as csvfile:\n",
    "    csv_reader = csv.reader(csvfile, delimiter=\",\")\n",
    "\n",
    "\n",
    "\n",
    "#Skipping header \n",
    "    next(csv_reader, None)\n",
    "    \n",
    "    candidates = []\n",
    "    counties_d = {}\n",
    "    counties = []\n",
    "    results = {}\n",
    "    \n",
    "\n",
    "#Making Lists from dataset\n",
    "    for row in csv_reader:\n",
    "       counties.append(row[1])\n",
    "       candidates.append(row[2])\n",
    "       counties_d.setdefault(row[1], 0)\n",
    "       \n",
    "        \n",
    "        \n",
    "        \n",
    "        \n",
    "\n"
   ]
  },
  {
   "cell_type": "code",
   "execution_count": null,
   "metadata": {},
   "outputs": [],
   "source": [
    "\n"
   ]
  },
  {
   "cell_type": "code",
   "execution_count": 12,
   "metadata": {},
   "outputs": [],
   "source": [
    "\n",
    "votes_d = {\"Total Votes\" : 0, \"Percentage Won\" : 0}       \n",
    "counties_d.update(votes_d)  \n",
    "zipped =  zip(candidates, counties)\n",
    "\n"
   ]
  },
  {
   "cell_type": "code",
   "execution_count": 13,
   "metadata": {},
   "outputs": [
    {
     "data": {
      "text/plain": [
       "{}"
      ]
     },
     "execution_count": 13,
     "metadata": {},
     "output_type": "execute_result"
    }
   ],
   "source": [
    "candidates_d"
   ]
  },
  {
   "cell_type": "code",
   "execution_count": 49,
   "metadata": {},
   "outputs": [
    {
     "name": "stdout",
     "output_type": "stream",
     "text": [
      "{'Correy': {'Marsh': 453015, 'Queen': 139554, 'Bamoo': 69752, 'Trandee': 20824, 'Raffah': 21055, 'Total Votes': 704200, 'Percentage Won': 19.999994319797125}, 'Khan': {'Marsh': 1427142, 'Queen': 439494, 'Bamoo': 219834, 'Trandee': 65939, 'Raffah': 65822, 'Total Votes': 2218231, 'Percentage Won': 63.00001050837531}, 'Li': {'Marsh': 317651, 'Queen': 97305, 'Bamoo': 48639, 'Trandee': 14741, 'Raffah': 14604, 'Total Votes': 492940, 'Percentage Won': 13.999996023857989}, \"O'Tooley\": {'Marsh': 68149, 'Queen': 20850, 'Bamoo': 10433, 'Trandee': 3113, 'Raffah': 3085, 'Total Votes': 105630, 'Percentage Won': 2.999999147969569}}\n",
      "3521001\n"
     ]
    }
   ],
   "source": [
    "Winner_Score = 0\n",
    "results = {\n",
    "}\n",
    "zipped =  zip(candidates, counties)\n",
    "counted = Counter(zipped)\n",
    "\n",
    "\n",
    "    \n",
    "for (x, y) in sorted(counted):\n",
    "    if not x in results.keys():          \n",
    "        results[x] = copy.deepcopy(counties_d)\n",
    "    results[x][y] = counted[x, y]\n",
    "for x in results.keys():\n",
    "    results[x][\"Total Votes\"] = sum(results[x].values())\n",
    "    results[x][\"Percentage Won\"] = results[x][\"Total Votes\"] / len(counties) * 100\n",
    "    if results[x]['Total Votes'] > Winner_Score:\n",
    "        Winner_Score = results[x][\"Total Votes\"]\n",
    "        Winner = x\n",
    "        \n",
    "\n",
    "\n",
    "        \n",
    "print(results)\n",
    "print(len(counties))\n"
   ]
  },
  {
   "cell_type": "markdown",
   "metadata": {},
   "source": [
    "results"
   ]
  },
  {
   "cell_type": "code",
   "execution_count": 42,
   "metadata": {},
   "outputs": [
    {
     "data": {
      "text/plain": [
       "'Khan'"
      ]
     },
     "execution_count": 42,
     "metadata": {},
     "output_type": "execute_result"
    }
   ],
   "source": [
    "Winner\n",
    "\n"
   ]
  },
  {
   "cell_type": "code",
   "execution_count": 39,
   "metadata": {},
   "outputs": [
    {
     "data": {
      "text/plain": [
       "105630"
      ]
     },
     "execution_count": 39,
     "metadata": {},
     "output_type": "execute_result"
    }
   ],
   "source": [
    "results[\"O'Tooley\"\n",
    "]['Total Votes']"
   ]
  },
  {
   "cell_type": "code",
   "execution_count": 48,
   "metadata": {},
   "outputs": [
    {
     "ename": "KeyError",
     "evalue": "'Total Votes'",
     "output_type": "error",
     "traceback": [
      "\u001b[1;31m-------------------------------------------\u001b[0m",
      "\u001b[1;31mKeyError\u001b[0m  Traceback (most recent call last)",
      "\u001b[1;32m<ipython-input-48-11480da3f143>\u001b[0m in \u001b[0;36m<module>\u001b[1;34m()\u001b[0m\n\u001b[0;32m      1\u001b[0m \u001b[1;33m\u001b[0m\u001b[0m\n\u001b[1;32m----> 2\u001b[1;33m \u001b[0mTotals\u001b[0m \u001b[1;33m=\u001b[0m \u001b[1;33m{\u001b[0m\u001b[0mresults\u001b[0m\u001b[1;33m.\u001b[0m\u001b[0mkeys\u001b[0m\u001b[1;33m(\u001b[0m\u001b[1;33m)\u001b[0m\u001b[1;33m:\u001b[0m \u001b[0mresults\u001b[0m\u001b[1;33m[\u001b[0m\u001b[1;34m\"Total Votes\"\u001b[0m\u001b[1;33m]\u001b[0m\u001b[1;33m.\u001b[0m\u001b[0mvalues\u001b[0m\u001b[1;33m(\u001b[0m\u001b[1;33m)\u001b[0m\u001b[1;33m}\u001b[0m\u001b[1;33m\u001b[0m\u001b[0m\n\u001b[0m",
      "\u001b[1;31mKeyError\u001b[0m: 'Total Votes'"
     ]
    }
   ],
   "source": [
    "\n"
   ]
  },
  {
   "cell_type": "code",
   "execution_count": null,
   "metadata": {},
   "outputs": [],
   "source": []
  }
 ],
 "metadata": {
  "kernelspec": {
   "display_name": "Python [conda env:PythonData]",
   "language": "python",
   "name": "conda-env-PythonData-py"
  },
  "language_info": {
   "codemirror_mode": {
    "name": "ipython",
    "version": 3
   },
   "file_extension": ".py",
   "mimetype": "text/x-python",
   "name": "python",
   "nbconvert_exporter": "python",
   "pygments_lexer": "ipython3",
   "version": "3.6.5"
  }
 },
 "nbformat": 4,
 "nbformat_minor": 2
}
